{
 "cells": [
  {
   "metadata": {
    "ExecuteTime": {
     "end_time": "2024-06-05T16:04:21.170044Z",
     "start_time": "2024-06-05T16:03:44.404600Z"
    }
   },
   "cell_type": "code",
   "source": "",
   "id": "29765c9554d8dd9f",
   "outputs": [
    {
     "name": "stdout",
     "output_type": "stream",
     "text": [
      "Error Missing input nc file.\n"
     ]
    }
   ],
   "execution_count": 1
  },
  {
   "metadata": {
    "ExecuteTime": {
     "end_time": "2024-06-11T11:16:03.304203Z",
     "start_time": "2024-06-11T11:16:03.279146Z"
    }
   },
   "cell_type": "code",
   "source": [
    "import os.path\n",
    "path = \"G:/Mi unidad/Munka/SENTINEL/Python_projects/BioRetrieval/input.txt\"\n",
    "os.path.join(os.path.dirname(path),os.path.splitext(os.path.basename(path))[0])"
   ],
   "id": "56e9d8485f45f1fa",
   "outputs": [
    {
     "data": {
      "text/plain": [
       "'G:/Mi unidad/Munka/SENTINEL/Python_projects/BioRetrieval\\\\input'"
      ]
     },
     "execution_count": 3,
     "metadata": {},
     "output_type": "execute_result"
    }
   ],
   "execution_count": 3
  },
  {
   "metadata": {
    "ExecuteTime": {
     "end_time": "2024-06-05T15:57:22.018997Z",
     "start_time": "2024-06-05T15:57:22.005002Z"
    }
   },
   "cell_type": "code",
   "source": [
    "import os.path\n",
    "input_path = \"G:/Mi unidad/Munka/SENTINEL/Python_projects/BioRetrieval/input\"\n",
    "\n",
    "# Create output path\n",
    "input_path = os.path.abspath(input_path) # Create a path object\n",
    "path_components = input_path.split(os.sep) # Split the path into its components\n",
    "path_components[-1] = \"output\" # Replace last part with output\n",
    "output_path = os.sep.join(path_components) # Join the path components back together\n",
    "\n",
    "os.path.join(output_path, 'logfile.log')\n",
    "    "
   ],
   "id": "bff5c18a0d50bec6",
   "outputs": [
    {
     "data": {
      "text/plain": [
       "'G:\\\\Mi unidad\\\\Munka\\\\SENTINEL\\\\Python_projects\\\\BioRetrieval\\\\output\\\\logfile.log'"
      ]
     },
     "execution_count": 24,
     "metadata": {},
     "output_type": "execute_result"
    }
   ],
   "execution_count": 24
  },
  {
   "metadata": {
    "ExecuteTime": {
     "end_time": "2024-06-10T12:46:16.757251Z",
     "start_time": "2024-06-10T12:46:16.734264Z"
    }
   },
   "cell_type": "code",
   "source": [
    "import netCDF4 as nc\n",
    "import os\n",
    "path = 'G:\\\\Saját meghajtó\\\\Munka\\\\SENTINEL\\\\Python_projects\\\\BioRetrieval\\\\input\\\\CHI_E2E_PRO_L2AIMG_20230323T094552Z_20230324T122933Z_0001.nc'\n",
    "\n",
    "path = os.path.abspath(path)\n",
    "print(os.path.exists(path))\n",
    "print(path)\n",
    "# Check file permissions\n",
    "print(os.access(path, os.R_OK))"
   ],
   "id": "7ba48134072cb0f8",
   "outputs": [
    {
     "name": "stdout",
     "output_type": "stream",
     "text": [
      "True\n",
      "G:\\Saját meghajtó\\Munka\\SENTINEL\\Python_projects\\BioRetrieval\\input\\CHI_E2E_PRO_L2AIMG_20230323T094552Z_20230324T122933Z_0001.nc\n",
      "True\n"
     ]
    }
   ],
   "execution_count": 5
  },
  {
   "metadata": {
    "ExecuteTime": {
     "end_time": "2024-06-10T12:56:29.935663Z",
     "start_time": "2024-06-10T12:56:29.872632Z"
    }
   },
   "cell_type": "code",
   "source": [
    "path = r'C:\\Users\\ixion\\OneDrive\\Desktop\\input\\CHI_E2E_PRO_L2AIMG_20230323T094552Z_20230324T122933Z_0001.nc'\n",
    "\n",
    "try:\n",
    "    dataset = nc.Dataset(path)\n",
    "    print(\"File opened successfully\")\n",
    "except FileNotFoundError:\n",
    "    print(\"File not found at:\", path)\n",
    "except PermissionError:\n",
    "    print(\"Permission denied for file at:\", path)\n",
    "except Exception as e:\n",
    "    print(\"An error occurred:\", e)"
   ],
   "id": "c06fb43d439a5585",
   "outputs": [
    {
     "name": "stdout",
     "output_type": "stream",
     "text": [
      "File opened successfully\n"
     ]
    }
   ],
   "execution_count": 14
  },
  {
   "metadata": {
    "ExecuteTime": {
     "end_time": "2024-06-10T12:49:28.915854Z",
     "start_time": "2024-06-10T12:49:28.902862Z"
    }
   },
   "cell_type": "code",
   "source": "print(repr(path)) ",
   "id": "a4a38f97d3f8facb",
   "outputs": [
    {
     "name": "stdout",
     "output_type": "stream",
     "text": [
      "'G:\\\\Saját meghajtó\\\\Munka\\\\SENTINEL\\\\Python_projects\\\\BioRetrieval\\\\input\\\\CHI_E2E_PRO_L2AIMG_20230323T094552Z_20230324T122933Z_0001.nc'\n"
     ]
    }
   ],
   "execution_count": 7
  },
  {
   "metadata": {
    "ExecuteTime": {
     "end_time": "2024-06-13T19:30:19.252953Z",
     "start_time": "2024-06-13T19:30:19.219005Z"
    }
   },
   "cell_type": "code",
   "source": [
    "import netCDF4 as nc\n",
    "import os\n",
    "model_path = 'G:\\Saját meghajtó\\Munka\\SENTINEL\\Python_projects\\BioRetrieval\\models'\n",
    "list_of_models = os.listdir(model_path)\n",
    "model_files = [os.path.join( model_path, list_of_models[i]) for i in range(len(list_of_models))]\n",
    "print(model_files)"
   ],
   "id": "4f8a6a582b9d9d58",
   "outputs": [
    {
     "name": "stdout",
     "output_type": "stream",
     "text": [
      "['G:\\\\Saját meghajtó\\\\Munka\\\\SENTINEL\\\\Python_projects\\\\BioRetrieval\\\\models\\\\CCC_GPR_ARTMO_20PC.py', 'G:\\\\Saját meghajtó\\\\Munka\\\\SENTINEL\\\\Python_projects\\\\BioRetrieval\\\\models\\\\CWC_GPR_ARTMO_20PC.py', 'G:\\\\Saját meghajtó\\\\Munka\\\\SENTINEL\\\\Python_projects\\\\BioRetrieval\\\\models\\\\LAI_GPR_ARTMO_20PC.py']\n"
     ]
    }
   ],
   "execution_count": 6
  },
  {
   "metadata": {
    "ExecuteTime": {
     "end_time": "2024-06-13T19:38:38.234707Z",
     "start_time": "2024-06-13T19:38:38.128476Z"
    }
   },
   "cell_type": "code",
   "source": [
    "import importlib\n",
    "i = 0\n",
    "importlib.import_module(model_files[i], package=None)"
   ],
   "id": "2cbcc4843110cd3a",
   "outputs": [
    {
     "ename": "ModuleNotFoundError",
     "evalue": "No module named 'G:\\\\Saját meghajtó\\\\Munka\\\\SENTINEL\\\\Python_projects\\\\BioRetrieval\\\\models\\\\CCC_GPR_ARTMO_20PC'",
     "output_type": "error",
     "traceback": [
      "\u001B[1;31m---------------------------------------------------------------------------\u001B[0m",
      "\u001B[1;31mModuleNotFoundError\u001B[0m                       Traceback (most recent call last)",
      "Cell \u001B[1;32mIn[8], line 3\u001B[0m\n\u001B[0;32m      1\u001B[0m \u001B[38;5;28;01mimport\u001B[39;00m \u001B[38;5;21;01mimportlib\u001B[39;00m\n\u001B[0;32m      2\u001B[0m i \u001B[38;5;241m=\u001B[39m \u001B[38;5;241m0\u001B[39m\n\u001B[1;32m----> 3\u001B[0m \u001B[43mimportlib\u001B[49m\u001B[38;5;241;43m.\u001B[39;49m\u001B[43mimport_module\u001B[49m\u001B[43m(\u001B[49m\u001B[43mmodel_files\u001B[49m\u001B[43m[\u001B[49m\u001B[43mi\u001B[49m\u001B[43m]\u001B[49m\u001B[43m,\u001B[49m\u001B[43m \u001B[49m\u001B[43mpackage\u001B[49m\u001B[38;5;241;43m=\u001B[39;49m\u001B[38;5;28;43;01mNone\u001B[39;49;00m\u001B[43m)\u001B[49m\n",
      "File \u001B[1;32m~\\AppData\\Local\\Programs\\Python\\Python310\\lib\\importlib\\__init__.py:126\u001B[0m, in \u001B[0;36mimport_module\u001B[1;34m(name, package)\u001B[0m\n\u001B[0;32m    124\u001B[0m             \u001B[38;5;28;01mbreak\u001B[39;00m\n\u001B[0;32m    125\u001B[0m         level \u001B[38;5;241m+\u001B[39m\u001B[38;5;241m=\u001B[39m \u001B[38;5;241m1\u001B[39m\n\u001B[1;32m--> 126\u001B[0m \u001B[38;5;28;01mreturn\u001B[39;00m \u001B[43m_bootstrap\u001B[49m\u001B[38;5;241;43m.\u001B[39;49m\u001B[43m_gcd_import\u001B[49m\u001B[43m(\u001B[49m\u001B[43mname\u001B[49m\u001B[43m[\u001B[49m\u001B[43mlevel\u001B[49m\u001B[43m:\u001B[49m\u001B[43m]\u001B[49m\u001B[43m,\u001B[49m\u001B[43m \u001B[49m\u001B[43mpackage\u001B[49m\u001B[43m,\u001B[49m\u001B[43m \u001B[49m\u001B[43mlevel\u001B[49m\u001B[43m)\u001B[49m\n",
      "File \u001B[1;32m<frozen importlib._bootstrap>:1050\u001B[0m, in \u001B[0;36m_gcd_import\u001B[1;34m(name, package, level)\u001B[0m\n",
      "File \u001B[1;32m<frozen importlib._bootstrap>:1027\u001B[0m, in \u001B[0;36m_find_and_load\u001B[1;34m(name, import_)\u001B[0m\n",
      "File \u001B[1;32m<frozen importlib._bootstrap>:992\u001B[0m, in \u001B[0;36m_find_and_load_unlocked\u001B[1;34m(name, import_)\u001B[0m\n",
      "File \u001B[1;32m<frozen importlib._bootstrap>:241\u001B[0m, in \u001B[0;36m_call_with_frames_removed\u001B[1;34m(f, *args, **kwds)\u001B[0m\n",
      "File \u001B[1;32m<frozen importlib._bootstrap>:1050\u001B[0m, in \u001B[0;36m_gcd_import\u001B[1;34m(name, package, level)\u001B[0m\n",
      "File \u001B[1;32m<frozen importlib._bootstrap>:1027\u001B[0m, in \u001B[0;36m_find_and_load\u001B[1;34m(name, import_)\u001B[0m\n",
      "File \u001B[1;32m<frozen importlib._bootstrap>:1004\u001B[0m, in \u001B[0;36m_find_and_load_unlocked\u001B[1;34m(name, import_)\u001B[0m\n",
      "\u001B[1;31mModuleNotFoundError\u001B[0m: No module named 'G:\\\\Saját meghajtó\\\\Munka\\\\SENTINEL\\\\Python_projects\\\\BioRetrieval\\\\models\\\\CCC_GPR_ARTMO_20PC'"
     ]
    }
   ],
   "execution_count": 8
  },
  {
   "metadata": {
    "ExecuteTime": {
     "end_time": "2024-06-13T19:43:44.523646Z",
     "start_time": "2024-06-13T19:43:44.503664Z"
    }
   },
   "cell_type": "code",
   "source": [
    "import sys\n",
    "sys.path.append(model_path)\n",
    "bio_model = importlib.import_module(os.path.splitext(list_of_models[i])[0], package=None)\n",
    "print(bio_model.model_type)"
   ],
   "id": "2edc80bfd37f80ca",
   "outputs": [
    {
     "name": "stdout",
     "output_type": "stream",
     "text": [
      "GPR\n"
     ]
    }
   ],
   "execution_count": 14
  },
  {
   "metadata": {
    "ExecuteTime": {
     "end_time": "2024-06-17T13:03:24.681655Z",
     "start_time": "2024-06-17T13:03:23.948014Z"
    }
   },
   "cell_type": "code",
   "source": [
    "import numpy as np\n",
    "\n",
    "# Create dummy 3D matrices for both lists\n",
    "matrix1_1 = np.random.rand(4, 4, 4)\n",
    "matrix1_2 = np.random.rand(4, 4, 4)\n",
    "matrix1_3 = np.random.rand(4, 4, 4)\n",
    "\n",
    "matrix2_1 = np.random.rand(4, 4, 4)\n",
    "matrix2_2 = np.random.rand(4, 4, 4)\n",
    "matrix2_3 = np.random.rand(4, 4, 4)\n",
    "\n",
    "# Lists of matrices\n",
    "list1 = [matrix1_1, matrix1_2, matrix1_3]\n",
    "list2 = [matrix2_1, matrix2_2, matrix2_3]\n",
    "\n",
    "# Check that both lists have the same length\n",
    "assert len(list1) == len(list2), \"Both lists must have the same length\"\n",
    "\n",
    "# Create an interleaved list of matrices\n",
    "interleaved_matrices = [matrix for pair in zip(list1, list2) for matrix in pair]\n",
    "\n",
    "# Stack the interleaved matrices along the last axis\n",
    "stacked_data = np.stack(interleaved_matrices, axis=-1)\n",
    "\n",
    "print(\"Stacked Data Shape:\", stacked_data.shape)"
   ],
   "id": "c57a766de3099aaf",
   "outputs": [
    {
     "name": "stdout",
     "output_type": "stream",
     "text": [
      "Stacked Data Shape: (4, 4, 4, 6)\n"
     ]
    }
   ],
   "execution_count": 1
  },
  {
   "metadata": {},
   "cell_type": "code",
   "outputs": [],
   "execution_count": null,
   "source": "",
   "id": "72232eaf9a9eeeed"
  }
 ],
 "metadata": {
  "kernelspec": {
   "display_name": "Python 3",
   "language": "python",
   "name": "python3"
  },
  "language_info": {
   "codemirror_mode": {
    "name": "ipython",
    "version": 2
   },
   "file_extension": ".py",
   "mimetype": "text/x-python",
   "name": "python",
   "nbconvert_exporter": "python",
   "pygments_lexer": "ipython2",
   "version": "2.7.6"
  }
 },
 "nbformat": 4,
 "nbformat_minor": 5
}
